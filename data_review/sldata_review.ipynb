{
 "cells": [
  {
   "cell_type": "code",
   "execution_count": null,
   "id": "e16b65d1",
   "metadata": {},
   "outputs": [
    {
     "name": "stdout",
     "output_type": "stream",
     "text": [
      "   Unnamed: 0     gene_pair  study_origin cell_line_origin gene_1  gene_2  \\\n",
      "0           1   AKT1|AMBRA1      33956155             RPE1   AKT1  AMBRA1   \n",
      "1           2   AKT3|AMBRA1      33956155             RPE1   AKT3  AMBRA1   \n",
      "2           3   AMBRA1|ARF6      33956155             RPE1   ARF6  AMBRA1   \n",
      "3           4   AMBRA1|ATF4      33956155             RPE1   ATF4  AMBRA1   \n",
      "4           5  AMBRA1|ATG10      33956155             RPE1  ATG10  AMBRA1   \n",
      "\n",
      "  SL_or_not  SL_score  statistical_score  SL_score_cutoff  \\\n",
      "0    Not SL -0.010982                0.0             -1.0   \n",
      "1    Not SL  2.159344                0.0             -1.0   \n",
      "2    Not SL -0.564699                0.0             -1.0   \n",
      "3    Not SL  0.999030                0.0             -1.0   \n",
      "4    Not SL  3.916281                0.0             -1.0   \n",
      "\n",
      "   statistical_score_cutoff  \n",
      "0                       0.0  \n",
      "1                       0.0  \n",
      "2                       0.0  \n",
      "3                       0.0  \n",
      "4                       0.0  \n"
     ]
    }
   ],
   "source": [
    "import pandas as pd\n",
    "\n",
    "# 读取整个CSV文件\n",
    "sl_data = pd.read_csv('./data/SLKB_rawSL.csv')\n",
    "\n",
    "# 查看前5行\n",
    "print(sl_data.head())\n",
    "\n",
    "# # 获取特定列\n",
    "# column_data = data['column_name']\n",
    "\n",
    "# # 转换为字典列表\n",
    "# data_dict = data.to_dict('records')"
   ]
  },
  {
   "cell_type": "code",
   "execution_count": 11,
   "id": "191a813f",
   "metadata": {},
   "outputs": [
    {
     "name": "stdout",
     "output_type": "stream",
     "text": [
      "   cell_line_origin  total_count  sl_count   precent\n",
      "0              K562       120919    1563.0  0.012926\n",
      "1            JURKAT        75078     374.0  0.004981\n",
      "2              RPE1        11911    6833.0  0.573671\n",
      "3              A549         9062     682.0  0.075259\n",
      "4              MEWO         6050     475.0  0.078512\n",
      "5           MELJUSO         5159     551.0  0.106804\n",
      "6              HELA         4933     149.0  0.030205\n",
      "7            HS936T         4859     636.0  0.130891\n",
      "8               GI1         4859     476.0  0.097963\n",
      "9            HS944T         4859     497.0  0.102284\n",
      "10        PATU8988S         4859     618.0  0.127187\n",
      "11              PK1         4859     668.0  0.137477\n",
      "12           MEL202         4859     688.0  0.141593\n",
      "13           IPC298         4859     619.0  0.127392\n",
      "14             HSC5         4859     705.0  0.145092\n",
      "15             293T         2628      59.0  0.022451\n",
      "16           OVCAR8         1525      56.0  0.036721\n",
      "17             A375         1491      46.0  0.030852\n",
      "18            22RV1         1225     274.0  0.223673\n",
      "19              PC9         1030      87.0  0.084466\n",
      "20             HT29          300       3.0  0.010000\n",
      "21             786O          300       0.0  0.000000\n"
     ]
    }
   ],
   "source": [
    "# import pandas as pd\n",
    "\n",
    "# # 读取 CSV 文件\n",
    "# df = pd.read_csv('your_file.csv')\n",
    "df = sl_data\n",
    "\n",
    "# 计算每个细胞系的总数\n",
    "total_counts = df['cell_line_origin'].value_counts().reset_index()\n",
    "total_counts.columns = ['cell_line_origin', 'total_count']\n",
    "\n",
    "# 计算每个细胞系中 SL 的数量\n",
    "sl_counts = df[df['SL_or_not'] == 'SL']['cell_line_origin'].value_counts().reset_index()\n",
    "sl_counts.columns = ['cell_line_origin', 'sl_count']\n",
    "\n",
    "# 合并两个结果（使用左连接，确保所有细胞系都出现）\n",
    "result = pd.merge(total_counts, sl_counts, on='cell_line_origin', how='left').fillna(0)\n",
    "result[\"precent\"] = result['sl_count'] / result['total_count']\n",
    "\n",
    "print(result)"
   ]
  },
  {
   "cell_type": "code",
   "execution_count": 12,
   "id": "e6b78989",
   "metadata": {},
   "outputs": [],
   "source": [
    "# 读取 PKL 文件 --> dict\n",
    "gfm_data = pd.read_pickle(\"./data/geneformer_gene_embs.pkl\")\n",
    "\n",
    "# # 查看数据（如果是 DataFrame）\n",
    "# print(gfm_data[0])"
   ]
  },
  {
   "cell_type": "code",
   "execution_count": null,
   "id": "fbc42f7c",
   "metadata": {},
   "outputs": [
    {
     "name": "stdout",
     "output_type": "stream",
     "text": [
      "\n",
      "有效基因对（两个基因都有 emb）的比例: 77.07%\n"
     ]
    }
   ],
   "source": [
    "import pandas as pd\n",
    "import numpy as np\n",
    "\n",
    "# 假设 gfm_data 和 SLdata 已经加载\n",
    "# gfm_data = {gene_name: emb, ...}\n",
    "# SLdata = pd.DataFrame({\"gene_1\": [...], \"gene_2\": [...]})\n",
    "\n",
    "# 1. 提取所有唯一基因\n",
    "all_genes = pd.unique(pd.concat([sl_data[\"gene_1\"], sl_data[\"gene_2\"]]))\n",
    "total_genes = len(all_genes)\n",
    "\n",
    "# 4. （可选）将 emb 添加到 SLdata 中\n",
    "sl_data[\"gene_1_emb\"] = sl_data[\"gene_1\"].map(gfm_data)  # 如果基因不存在，值为 NaN\n",
    "sl_data[\"gene_2_emb\"] = sl_data[\"gene_2\"].map(gfm_data)\n",
    "\n",
    "# 检查 SLdata 中 emb 的覆盖率\n",
    "valid_pairs = sl_data.dropna(subset=[\"gene_1_emb\", \"gene_2_emb\"])\n",
    "valid_ratio = len(valid_pairs) / len(sl_data) * 100\n",
    "print(f\"\\n有效基因对（两个基因都有 emb）的比例: {valid_ratio:.2f}%\")"
   ]
  },
  {
   "cell_type": "code",
   "execution_count": 14,
   "id": "3ecb69b5",
   "metadata": {},
   "outputs": [
    {
     "name": "stdout",
     "output_type": "stream",
     "text": [
      "   Unnamed: 0     gene_pair  study_origin cell_line_origin gene_1  gene_2  \\\n",
      "0           1   AKT1|AMBRA1      33956155             RPE1   AKT1  AMBRA1   \n",
      "1           2   AKT3|AMBRA1      33956155             RPE1   AKT3  AMBRA1   \n",
      "2           3   AMBRA1|ARF6      33956155             RPE1   ARF6  AMBRA1   \n",
      "3           4   AMBRA1|ATF4      33956155             RPE1   ATF4  AMBRA1   \n",
      "4           5  AMBRA1|ATG10      33956155             RPE1  ATG10  AMBRA1   \n",
      "\n",
      "  SL_or_not  SL_score  statistical_score  SL_score_cutoff  \\\n",
      "0    Not SL -0.010982                0.0             -1.0   \n",
      "1    Not SL  2.159344                0.0             -1.0   \n",
      "2    Not SL -0.564699                0.0             -1.0   \n",
      "3    Not SL  0.999030                0.0             -1.0   \n",
      "4    Not SL  3.916281                0.0             -1.0   \n",
      "\n",
      "   statistical_score_cutoff  \\\n",
      "0                       0.0   \n",
      "1                       0.0   \n",
      "2                       0.0   \n",
      "3                       0.0   \n",
      "4                       0.0   \n",
      "\n",
      "                                          gene_1_emb  \\\n",
      "0  [-0.008143925, 0.3002113, -0.46870166, -0.5202...   \n",
      "1  [-0.37870598, -0.39285004, -0.16119106, 0.2693...   \n",
      "2  [-0.060376916, -0.014184013, -0.18512052, 0.26...   \n",
      "3  [-0.030324766, 0.14576757, 0.08561253, -0.0774...   \n",
      "4  [0.010688938, -0.06859225, 0.23224026, 0.22517...   \n",
      "\n",
      "                                          gene_2_emb  \n",
      "0  [-0.019237058, 0.073147945, -0.41082737, -0.19...  \n",
      "1  [-0.019237058, 0.073147945, -0.41082737, -0.19...  \n",
      "2  [-0.019237058, 0.073147945, -0.41082737, -0.19...  \n",
      "3  [-0.019237058, 0.073147945, -0.41082737, -0.19...  \n",
      "4  [-0.019237058, 0.073147945, -0.41082737, -0.19...  \n"
     ]
    }
   ],
   "source": [
    "print(sl_data.head())"
   ]
  },
  {
   "cell_type": "code",
   "execution_count": null,
   "id": "68c71d77",
   "metadata": {},
   "outputs": [
    {
     "name": "stdout",
     "output_type": "stream",
     "text": [
      "   cell_line_origin  total_genes  found_genes  coverage (%)  total_pairs  \\\n",
      "10             HT29           25           25    100.000000          300   \n",
      "2              786O           25           25    100.000000          300   \n",
      "0             22RV1           50           48     96.000000         1225   \n",
      "17           OVCAR8           75           71     94.666667         1525   \n",
      "1              293T           73           69     94.520548         2628   \n",
      "12           JURKAT          388          361     93.041237        75078   \n",
      "13             K562          645          565     87.596899       120919   \n",
      "21             RPE1         1856         1564     84.267241        11911   \n",
      "3              A375         1695         1422     83.893805         1491   \n",
      "16             MEWO         4435         3329     75.062007         6050   \n",
      "4              A549         3273         2375     72.563397         9062   \n",
      "15          MELJUSO         3223         2328     72.230841         5159   \n",
      "8            HS944T         3217         2322     72.179049         4859   \n",
      "9              HSC5         3217         2322     72.179049         4859   \n",
      "7            HS936T         3217         2322     72.179049         4859   \n",
      "5               GI1         3217         2322     72.179049         4859   \n",
      "14           MEL202         3217         2322     72.179049         4859   \n",
      "18        PATU8988S         3217         2322     72.179049         4859   \n",
      "20              PK1         3217         2322     72.179049         4859   \n",
      "11           IPC298         3217         2322     72.179049         4859   \n",
      "6              HELA         2155         1554     72.111369         4933   \n",
      "19              PC9         2060         1467     71.213592         1030   \n",
      "\n",
      "    valid_pairs  valid_ratio (%)  \n",
      "10          300       100.000000  \n",
      "2           300       100.000000  \n",
      "0          1128        92.081633  \n",
      "17         1335        87.540984  \n",
      "1          2346        89.269406  \n",
      "12        64980        86.549988  \n",
      "13        98468        81.433025  \n",
      "21         9539        80.085635  \n",
      "3          1175        78.806170  \n",
      "16         3382        55.900826  \n",
      "4          5973        65.912602  \n",
      "15         2807        54.409769  \n",
      "8          2507        51.594978  \n",
      "9          2507        51.594978  \n",
      "7          2507        51.594978  \n",
      "5          2507        51.594978  \n",
      "14         2507        51.594978  \n",
      "18         2507        51.594978  \n",
      "20         2507        51.594978  \n",
      "11         2507        51.594978  \n",
      "6          3773        76.484898  \n",
      "19          607        58.932039  \n"
     ]
    }
   ],
   "source": [
    "# geneformer emb 的覆盖率\n",
    "\n",
    "import pandas as pd\n",
    "import numpy as np\n",
    "\n",
    "\n",
    "results = []\n",
    "\n",
    "for cell_line, group in sl_data.groupby(\"cell_line_origin\"):\n",
    "    # 提取该细胞系下的所有唯一基因\n",
    "    genes_in_cell_line = pd.unique(pd.concat([group[\"gene_1\"], group[\"gene_2\"]]))\n",
    "    total_genes = len(genes_in_cell_line)\n",
    "    \n",
    "    # 统计能找到 gfm_emb 的基因数\n",
    "    found_genes = [gene for gene in genes_in_cell_line if gene in gfm_data]\n",
    "    coverage = len(found_genes) / total_genes * 100  # 百分比\n",
    "    \n",
    "    # 统计有效基因对（两个基因都有 emb）\n",
    "    valid_pairs = group.dropna(subset=[\"gene_1_emb\", \"gene_2_emb\"])\n",
    "    valid_ratio = len(valid_pairs) / len(group) * 100\n",
    "    \n",
    "    # 记录结果\n",
    "    results.append({\n",
    "        \"cell_line_origin\": cell_line,\n",
    "        \"total_genes\": total_genes,\n",
    "        \"found_genes\": len(found_genes),\n",
    "        \"coverage (%)\": coverage,\n",
    "        \"total_pairs\": len(group),\n",
    "        \"valid_pairs\": len(valid_pairs),\n",
    "        \"valid_ratio (%)\": valid_ratio,\n",
    "    })\n",
    "\n",
    "# 转换为 DataFrame\n",
    "coverage_df = pd.DataFrame(results)\n",
    "\n",
    "# 按覆盖率排序\n",
    "coverage_df = coverage_df.sort_values(\"coverage (%)\", ascending=False)\n",
    "\n",
    "print(coverage_df)"
   ]
  },
  {
   "cell_type": "code",
   "execution_count": null,
   "id": "02531ef5",
   "metadata": {},
   "outputs": [
    {
     "name": "stdout",
     "output_type": "stream",
     "text": [
      "   cell_line_origin  total_SL_pairs  valid_SL_pairs  SL_coverage (%)\n",
      "9              HT29               3               3       100.000000\n",
      "1              293T              59              57        96.610169\n",
      "2              A375              46              44        95.652174\n",
      "5              HELA             149             139        93.288591\n",
      "16           OVCAR8              56              52        92.857143\n",
      "11           JURKAT             374             342        91.443850\n",
      "0             22RV1             274             241        87.956204\n",
      "12             K562            1563            1373        87.843890\n",
      "18              PC9              87              76        87.356322\n",
      "20             RPE1            6833            5414        79.233133\n",
      "19              PK1             668             429        64.221557\n",
      "3              A549             682             436        63.929619\n",
      "6            HS936T             636             403        63.364780\n",
      "13           MEL202             688             434        63.081395\n",
      "10           IPC298             619             388        62.681745\n",
      "15             MEWO             475             293        61.684211\n",
      "7            HS944T             497             303        60.965795\n",
      "14          MELJUSO             551             335        60.798548\n",
      "4               GI1             476             287        60.294118\n",
      "17        PATU8988S             618             371        60.032362\n",
      "8              HSC5             705             423        60.000000\n"
     ]
    }
   ],
   "source": [
    "# geneformer emb 在正样本的覆盖率\n",
    "\n",
    "sl_pairs = sl_data[sl_data[\"SL_or_not\"] == \"SL\"]\n",
    "\n",
    "results = []\n",
    "\n",
    "for cell_line, group in sl_pairs.groupby(\"cell_line_origin\"):\n",
    "    valid_sl_pairs = group.dropna(subset=[\"gene_1_emb\", \"gene_2_emb\"])\n",
    "    coverage = len(valid_sl_pairs) / len(group) * 100\n",
    "    results.append({\n",
    "        \"cell_line_origin\": cell_line,\n",
    "        \"total_SL_pairs\": len(group),\n",
    "        \"valid_SL_pairs\": len(valid_sl_pairs),\n",
    "        \"SL_coverage (%)\": coverage,\n",
    "    })\n",
    "sl_coverage_df = pd.DataFrame(results)\n",
    "\n",
    "sl_coverage_df = sl_coverage_df.sort_values(\"SL_coverage (%)\", ascending=False)\n",
    "print(sl_coverage_df)"
   ]
  },
  {
   "cell_type": "markdown",
   "id": "f862bcfe",
   "metadata": {},
   "source": []
  }
 ],
 "metadata": {
  "kernelspec": {
   "display_name": "pytorchGPU",
   "language": "python",
   "name": "python3"
  },
  "language_info": {
   "codemirror_mode": {
    "name": "ipython",
    "version": 3
   },
   "file_extension": ".py",
   "mimetype": "text/x-python",
   "name": "python",
   "nbconvert_exporter": "python",
   "pygments_lexer": "ipython3",
   "version": "3.11.11"
  }
 },
 "nbformat": 4,
 "nbformat_minor": 5
}
